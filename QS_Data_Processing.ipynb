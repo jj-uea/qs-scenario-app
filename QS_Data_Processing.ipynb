{
 "cells": [
  {
   "cell_type": "code",
   "execution_count": 1,
   "id": "ac1d7d37-4ac9-4065-b18b-a0eb90e5c5d4",
   "metadata": {},
   "outputs": [],
   "source": [
    "import pandas as pd\n",
    "import numpy as np"
   ]
  },
  {
   "cell_type": "code",
   "execution_count": 2,
   "id": "94c3ac95-36e6-42ca-ba18-5e0ec03e4a93",
   "metadata": {},
   "outputs": [],
   "source": [
    "df = pd.read_csv('qs_data.csv', encoding='latin1')"
   ]
  },
  {
   "cell_type": "code",
   "execution_count": 3,
   "id": "d196bc45-b863-48f8-a34d-e23d36ba7dfa",
   "metadata": {},
   "outputs": [],
   "source": [
    "df = df[df['year']==2026].pivot_table(index='institution', columns='metric', values='score').reset_index()"
   ]
  },
  {
   "cell_type": "code",
   "execution_count": 4,
   "id": "0506f2de-556e-49de-a6b3-9eb977b80f10",
   "metadata": {},
   "outputs": [
    {
     "data": {
      "text/html": [
       "<div>\n",
       "<style scoped>\n",
       "    .dataframe tbody tr th:only-of-type {\n",
       "        vertical-align: middle;\n",
       "    }\n",
       "\n",
       "    .dataframe tbody tr th {\n",
       "        vertical-align: top;\n",
       "    }\n",
       "\n",
       "    .dataframe thead th {\n",
       "        text-align: right;\n",
       "    }\n",
       "</style>\n",
       "<table border=\"1\" class=\"dataframe\">\n",
       "  <thead>\n",
       "    <tr style=\"text-align: right;\">\n",
       "      <th>metric</th>\n",
       "      <th>institution</th>\n",
       "      <th>Academic Reputation</th>\n",
       "      <th>Citations per Faculty</th>\n",
       "      <th>Employer Reputation</th>\n",
       "      <th>Employment Outcomes</th>\n",
       "      <th>Faculty Student Ratio</th>\n",
       "      <th>International Faculty Ratio</th>\n",
       "      <th>International Research Network</th>\n",
       "      <th>International Student Diversity</th>\n",
       "      <th>International Student Ratio</th>\n",
       "      <th>Overall</th>\n",
       "      <th>Sustainability</th>\n",
       "    </tr>\n",
       "  </thead>\n",
       "  <tbody>\n",
       "    <tr>\n",
       "      <th>1475</th>\n",
       "      <td>Wuhan University</td>\n",
       "      <td>53.6</td>\n",
       "      <td>98.0</td>\n",
       "      <td>46.7</td>\n",
       "      <td>58.9</td>\n",
       "      <td>21.3</td>\n",
       "      <td>47.1</td>\n",
       "      <td>77.8</td>\n",
       "      <td>8.2</td>\n",
       "      <td>10.7</td>\n",
       "      <td>57.3</td>\n",
       "      <td>60.8</td>\n",
       "    </tr>\n",
       "    <tr>\n",
       "      <th>216</th>\n",
       "      <td>Duy Tan University</td>\n",
       "      <td>13.7</td>\n",
       "      <td>76.0</td>\n",
       "      <td>27.7</td>\n",
       "      <td>6.4</td>\n",
       "      <td>6.3</td>\n",
       "      <td>43.4</td>\n",
       "      <td>87.7</td>\n",
       "      <td>6.3</td>\n",
       "      <td>2.1</td>\n",
       "      <td>33.0</td>\n",
       "      <td>58.7</td>\n",
       "    </tr>\n",
       "    <tr>\n",
       "      <th>1157</th>\n",
       "      <td>University of Engineering &amp; Technology (UET) L...</td>\n",
       "      <td>11.1</td>\n",
       "      <td>15.1</td>\n",
       "      <td>49.1</td>\n",
       "      <td>54.1</td>\n",
       "      <td>20.4</td>\n",
       "      <td>NaN</td>\n",
       "      <td>56.5</td>\n",
       "      <td>6.5</td>\n",
       "      <td>2.3</td>\n",
       "      <td>NaN</td>\n",
       "      <td>40.7</td>\n",
       "    </tr>\n",
       "  </tbody>\n",
       "</table>\n",
       "</div>"
      ],
      "text/plain": [
       "metric                                        institution  \\\n",
       "1475                                     Wuhan University   \n",
       "216                                    Duy Tan University   \n",
       "1157    University of Engineering & Technology (UET) L...   \n",
       "\n",
       "metric  Academic Reputation  Citations per Faculty  Employer Reputation  \\\n",
       "1475                   53.6                   98.0                 46.7   \n",
       "216                    13.7                   76.0                 27.7   \n",
       "1157                   11.1                   15.1                 49.1   \n",
       "\n",
       "metric  Employment Outcomes  Faculty Student Ratio  \\\n",
       "1475                   58.9                   21.3   \n",
       "216                     6.4                    6.3   \n",
       "1157                   54.1                   20.4   \n",
       "\n",
       "metric  International Faculty Ratio  International Research Network  \\\n",
       "1475                           47.1                            77.8   \n",
       "216                            43.4                            87.7   \n",
       "1157                            NaN                            56.5   \n",
       "\n",
       "metric  International Student Diversity  International Student Ratio  Overall  \\\n",
       "1475                                8.2                         10.7     57.3   \n",
       "216                                 6.3                          2.1     33.0   \n",
       "1157                                6.5                          2.3      NaN   \n",
       "\n",
       "metric  Sustainability  \n",
       "1475              60.8  \n",
       "216               58.7  \n",
       "1157              40.7  "
      ]
     },
     "execution_count": 4,
     "metadata": {},
     "output_type": "execute_result"
    }
   ],
   "source": [
    "df.sample(3)"
   ]
  },
  {
   "cell_type": "code",
   "execution_count": 5,
   "id": "9f3d224d-4874-4b1a-8af5-d335e6da5ce3",
   "metadata": {},
   "outputs": [],
   "source": [
    "weights = {\n",
    "'Academic Reputation': 0.3,\n",
    "'Citations per Faculty': 0.2,\n",
    "'Employer Reputation': 0.15,\n",
    "'Faculty Student Ratio': 0.1,\n",
    "'Employment Outcomes': 0.05,\n",
    "'International Faculty Ratio': 0.05,\n",
    "'International Research Network': 0.05,\n",
    "'International Student Ratio': 0.05,\n",
    "'Sustainability': 0.05,\n",
    "'International Student Diversity': 0.0\n",
    "}\n",
    "\n",
    "metric_cols = [\n",
    "    'Academic Reputation',\n",
    "    'Citations per Faculty',\n",
    "    'Employer Reputation',\n",
    "    'Faculty Student Ratio',\n",
    "    'Employment Outcomes',\n",
    "    'International Faculty Ratio',\n",
    "    'International Research Network',\n",
    "    'International Student Ratio',\n",
    "    'Sustainability',\n",
    "    'International Student Diversity'\n",
    "]"
   ]
  },
  {
   "cell_type": "code",
   "execution_count": 6,
   "id": "ed4ccef3-3195-4d95-bc63-79cf9ba6e06b",
   "metadata": {},
   "outputs": [
    {
     "name": "stdout",
     "output_type": "stream",
     "text": [
      "metric               institution  Weighted Score\n",
      "0                 ADA University       15.394737\n",
      "1       AGH University of Krakow       23.465000\n",
      "2             Aalborg University       45.610000\n",
      "3               Aalto University       66.270000\n",
      "4              Aarhus University       64.360000\n"
     ]
    }
   ],
   "source": [
    "# We now need the weighted average of all the scores per university.\n",
    "\n",
    "# Extract the relevant columns\n",
    "metrics_df = df[metric_cols].copy()\n",
    "\n",
    "# Create a weight vector in the same order as metric_cols\n",
    "weight_vector = np.array([weights[col] for col in metric_cols])\n",
    "\n",
    "# Compute weighted average for each row, handling missing values:\n",
    "# Adjust weights to only include available values per row\n",
    "\n",
    "def weighted_average(row, weights_dict):\n",
    "    values = row.values.astype(float)\n",
    "    metric_names = row.index\n",
    "    mask = ~np.isnan(values)\n",
    "\n",
    "    if mask.sum() == 0:\n",
    "        return np.nan  # skip if all values are NaN\n",
    "\n",
    "    # Get the corresponding weights for the non-NaN metrics\n",
    "    used_weights = np.array([weights_dict[metric] for metric in metric_names[mask]])\n",
    "    used_weights = used_weights / used_weights.sum()  # normalize weights\n",
    "\n",
    "    return np.dot(values[mask], used_weights)\n",
    "\n",
    "# Apply row-wise\n",
    "df['Weighted Score'] = df[metric_cols].apply(lambda row: weighted_average(row, weights), axis=1)\n",
    "\n",
    "# View result\n",
    "print(df[['institution', 'Weighted Score']].head())\n"
   ]
  },
  {
   "cell_type": "code",
   "execution_count": 17,
   "id": "af761cb2-2ae7-4c50-ab62-afc0bcd6e618",
   "metadata": {},
   "outputs": [
    {
     "data": {
      "text/html": [
       "<div>\n",
       "<style scoped>\n",
       "    .dataframe tbody tr th:only-of-type {\n",
       "        vertical-align: middle;\n",
       "    }\n",
       "\n",
       "    .dataframe tbody tr th {\n",
       "        vertical-align: top;\n",
       "    }\n",
       "\n",
       "    .dataframe thead th {\n",
       "        text-align: right;\n",
       "    }\n",
       "</style>\n",
       "<table border=\"1\" class=\"dataframe\">\n",
       "  <thead>\n",
       "    <tr style=\"text-align: right;\">\n",
       "      <th>metric</th>\n",
       "      <th>Weighted Score</th>\n",
       "      <th>Overall</th>\n",
       "    </tr>\n",
       "  </thead>\n",
       "  <tbody>\n",
       "    <tr>\n",
       "      <th>0</th>\n",
       "      <td>15.394737</td>\n",
       "      <td>NaN</td>\n",
       "    </tr>\n",
       "    <tr>\n",
       "      <th>1</th>\n",
       "      <td>23.465000</td>\n",
       "      <td>NaN</td>\n",
       "    </tr>\n",
       "    <tr>\n",
       "      <th>2</th>\n",
       "      <td>45.610000</td>\n",
       "      <td>44.9</td>\n",
       "    </tr>\n",
       "    <tr>\n",
       "      <th>3</th>\n",
       "      <td>66.270000</td>\n",
       "      <td>66.3</td>\n",
       "    </tr>\n",
       "    <tr>\n",
       "      <th>4</th>\n",
       "      <td>64.360000</td>\n",
       "      <td>64.3</td>\n",
       "    </tr>\n",
       "    <tr>\n",
       "      <th>...</th>\n",
       "      <td>...</td>\n",
       "      <td>...</td>\n",
       "    </tr>\n",
       "    <tr>\n",
       "      <th>1496</th>\n",
       "      <td>29.610000</td>\n",
       "      <td>28.4</td>\n",
       "    </tr>\n",
       "    <tr>\n",
       "      <th>1497</th>\n",
       "      <td>83.430000</td>\n",
       "      <td>84.0</td>\n",
       "    </tr>\n",
       "    <tr>\n",
       "      <th>1498</th>\n",
       "      <td>30.468421</td>\n",
       "      <td>27.7</td>\n",
       "    </tr>\n",
       "    <tr>\n",
       "      <th>1499</th>\n",
       "      <td>23.375000</td>\n",
       "      <td>NaN</td>\n",
       "    </tr>\n",
       "    <tr>\n",
       "      <th>1500</th>\n",
       "      <td>89.440000</td>\n",
       "      <td>90.2</td>\n",
       "    </tr>\n",
       "  </tbody>\n",
       "</table>\n",
       "<p>1501 rows × 2 columns</p>\n",
       "</div>"
      ],
      "text/plain": [
       "metric  Weighted Score  Overall\n",
       "0            15.394737      NaN\n",
       "1            23.465000      NaN\n",
       "2            45.610000     44.9\n",
       "3            66.270000     66.3\n",
       "4            64.360000     64.3\n",
       "...                ...      ...\n",
       "1496         29.610000     28.4\n",
       "1497         83.430000     84.0\n",
       "1498         30.468421     27.7\n",
       "1499         23.375000      NaN\n",
       "1500         89.440000     90.2\n",
       "\n",
       "[1501 rows x 2 columns]"
      ]
     },
     "execution_count": 17,
     "metadata": {},
     "output_type": "execute_result"
    }
   ],
   "source": [
    "df[['Weighted Score', 'Overall']]"
   ]
  },
  {
   "cell_type": "code",
   "execution_count": 14,
   "id": "8fb91d44-603a-43e5-a1c4-655b749eae0d",
   "metadata": {},
   "outputs": [
    {
     "data": {
      "text/plain": [
       "0       15.394737\n",
       "1       23.465000\n",
       "2       45.610000\n",
       "3       66.270000\n",
       "4       64.360000\n",
       "          ...    \n",
       "1496    29.610000\n",
       "1497    83.430000\n",
       "1498    30.468421\n",
       "1499    23.375000\n",
       "1500    89.440000\n",
       "Name: Weighted Score, Length: 1501, dtype: float64"
      ]
     },
     "execution_count": 14,
     "metadata": {},
     "output_type": "execute_result"
    }
   ],
   "source": [
    "df['Weighted Score']"
   ]
  },
  {
   "cell_type": "code",
   "execution_count": 7,
   "id": "c361503b-45b0-4387-9863-8897a45d6ac8",
   "metadata": {},
   "outputs": [
    {
     "name": "stdout",
     "output_type": "stream",
     "text": [
      "metric               institution  Weighted Score  Normalized Score\n",
      "0                 ADA University       15.394737          8.331623\n",
      "1       AGH University of Krakow       23.465000         17.182850\n",
      "2             Aalborg University       45.610000         41.470836\n",
      "3               Aalto University       66.270000         64.130117\n",
      "4              Aarhus University       64.360000         62.035285\n"
     ]
    }
   ],
   "source": [
    "# Compute min and max of the 'Weighted Score'\n",
    "min_score = df['Weighted Score'].min()\n",
    "max_score = df['Weighted Score'].max()\n",
    "\n",
    "# Apply min-max normalization to scale between 1 and 100\n",
    "df['Normalized Score'] = ((df['Weighted Score'] - min_score) / (max_score - min_score)) * (100 - 1) + 1\n",
    "\n",
    "# View result\n",
    "print(df[['institution', 'Weighted Score', 'Normalized Score']].head())"
   ]
  },
  {
   "cell_type": "code",
   "execution_count": 8,
   "id": "037b445e-d7c2-45fd-b913-5b8015971860",
   "metadata": {},
   "outputs": [
    {
     "data": {
      "text/html": [
       "<div>\n",
       "<style scoped>\n",
       "    .dataframe tbody tr th:only-of-type {\n",
       "        vertical-align: middle;\n",
       "    }\n",
       "\n",
       "    .dataframe tbody tr th {\n",
       "        vertical-align: top;\n",
       "    }\n",
       "\n",
       "    .dataframe thead th {\n",
       "        text-align: right;\n",
       "    }\n",
       "</style>\n",
       "<table border=\"1\" class=\"dataframe\">\n",
       "  <thead>\n",
       "    <tr style=\"text-align: right;\">\n",
       "      <th>metric</th>\n",
       "      <th>institution</th>\n",
       "      <th>Academic Reputation</th>\n",
       "      <th>Citations per Faculty</th>\n",
       "      <th>Employer Reputation</th>\n",
       "      <th>Employment Outcomes</th>\n",
       "      <th>Faculty Student Ratio</th>\n",
       "      <th>International Faculty Ratio</th>\n",
       "      <th>International Research Network</th>\n",
       "      <th>International Student Diversity</th>\n",
       "      <th>International Student Ratio</th>\n",
       "      <th>Overall</th>\n",
       "      <th>Sustainability</th>\n",
       "      <th>Weighted Score</th>\n",
       "      <th>Normalized Score</th>\n",
       "    </tr>\n",
       "  </thead>\n",
       "  <tbody>\n",
       "    <tr>\n",
       "      <th>798</th>\n",
       "      <td>The American University in Cairo</td>\n",
       "      <td>40.8</td>\n",
       "      <td>12.2</td>\n",
       "      <td>46.9</td>\n",
       "      <td>88.6</td>\n",
       "      <td>39.0</td>\n",
       "      <td>98.0</td>\n",
       "      <td>46.8</td>\n",
       "      <td>11.7</td>\n",
       "      <td>7.1</td>\n",
       "      <td>39.4</td>\n",
       "      <td>51.6</td>\n",
       "      <td>40.220</td>\n",
       "      <td>35.559242</td>\n",
       "    </tr>\n",
       "    <tr>\n",
       "      <th>824</th>\n",
       "      <td>The University of East Anglia</td>\n",
       "      <td>24.7</td>\n",
       "      <td>55.5</td>\n",
       "      <td>15.0</td>\n",
       "      <td>31.8</td>\n",
       "      <td>24.0</td>\n",
       "      <td>81.9</td>\n",
       "      <td>86.8</td>\n",
       "      <td>54.0</td>\n",
       "      <td>49.3</td>\n",
       "      <td>39.4</td>\n",
       "      <td>91.1</td>\n",
       "      <td>40.205</td>\n",
       "      <td>35.542791</td>\n",
       "    </tr>\n",
       "    <tr>\n",
       "      <th>1208</th>\n",
       "      <td>University of Luxembourg</td>\n",
       "      <td>13.2</td>\n",
       "      <td>39.5</td>\n",
       "      <td>8.2</td>\n",
       "      <td>58.8</td>\n",
       "      <td>87.2</td>\n",
       "      <td>100.0</td>\n",
       "      <td>68.1</td>\n",
       "      <td>100.0</td>\n",
       "      <td>100.0</td>\n",
       "      <td>39.4</td>\n",
       "      <td>42.4</td>\n",
       "      <td>40.275</td>\n",
       "      <td>35.619565</td>\n",
       "    </tr>\n",
       "  </tbody>\n",
       "</table>\n",
       "</div>"
      ],
      "text/plain": [
       "metric                       institution  Academic Reputation  \\\n",
       "798     The American University in Cairo                 40.8   \n",
       "824        The University of East Anglia                 24.7   \n",
       "1208            University of Luxembourg                 13.2   \n",
       "\n",
       "metric  Citations per Faculty  Employer Reputation  Employment Outcomes  \\\n",
       "798                      12.2                 46.9                 88.6   \n",
       "824                      55.5                 15.0                 31.8   \n",
       "1208                     39.5                  8.2                 58.8   \n",
       "\n",
       "metric  Faculty Student Ratio  International Faculty Ratio  \\\n",
       "798                      39.0                         98.0   \n",
       "824                      24.0                         81.9   \n",
       "1208                     87.2                        100.0   \n",
       "\n",
       "metric  International Research Network  International Student Diversity  \\\n",
       "798                               46.8                             11.7   \n",
       "824                               86.8                             54.0   \n",
       "1208                              68.1                            100.0   \n",
       "\n",
       "metric  International Student Ratio  Overall  Sustainability  Weighted Score  \\\n",
       "798                             7.1     39.4            51.6          40.220   \n",
       "824                            49.3     39.4            91.1          40.205   \n",
       "1208                          100.0     39.4            42.4          40.275   \n",
       "\n",
       "metric  Normalized Score  \n",
       "798            35.559242  \n",
       "824            35.542791  \n",
       "1208           35.619565  "
      ]
     },
     "execution_count": 8,
     "metadata": {},
     "output_type": "execute_result"
    }
   ],
   "source": [
    "df[df['Overall']==39.4]"
   ]
  },
  {
   "cell_type": "code",
   "execution_count": 12,
   "id": "6cb4bed8-93c3-4d60-895b-d474f36e56f2",
   "metadata": {},
   "outputs": [],
   "source": [
    "df['new_rank'] = df['Weighted Score'].rank(method='min', ascending=False).astype(int)\n"
   ]
  },
  {
   "cell_type": "code",
   "execution_count": 16,
   "id": "5c25cbfb-19bf-43b7-b430-19419bc6640a",
   "metadata": {},
   "outputs": [
    {
     "data": {
      "text/plain": [
       "602    22.72\n",
       "Name: Weighted Score, dtype: float64"
      ]
     },
     "execution_count": 16,
     "metadata": {},
     "output_type": "execute_result"
    }
   ],
   "source": [
    "df['Weighted Score'].sample()"
   ]
  },
  {
   "cell_type": "code",
   "execution_count": 26,
   "id": "bcd42229-518d-4345-8e48-e33f34dcbda0",
   "metadata": {},
   "outputs": [
    {
     "data": {
      "text/plain": [
       "array(['ADA University', 'AGH University of Krakow', 'Aalborg University',\n",
       "       ..., 'Zhengzhou University',\n",
       "       'Zurich University of Applied Sciences (ZHAW)',\n",
       "       'École Polytechnique Fédérale de Lausanne'], dtype=object)"
      ]
     },
     "execution_count": 26,
     "metadata": {},
     "output_type": "execute_result"
    }
   ],
   "source": [
    "df.institution.unique()"
   ]
  },
  {
   "cell_type": "code",
   "execution_count": 33,
   "id": "fe5f8b8a-9bb4-4652-8146-c8bbed697a8c",
   "metadata": {},
   "outputs": [
    {
     "data": {
      "text/plain": [
       "68.5"
      ]
     },
     "execution_count": 33,
     "metadata": {},
     "output_type": "execute_result"
    }
   ],
   "source": [
    "new_var = df.loc[df[\"institution\"] == 'Bogazici University', 'Sustainability'].iat[0]\n",
    "new_var"
   ]
  },
  {
   "cell_type": "code",
   "execution_count": 13,
   "id": "f9ede8ba-3716-4737-88bb-dfb7bbf7e3b2",
   "metadata": {},
   "outputs": [
    {
     "data": {
      "text/html": [
       "<div>\n",
       "<style scoped>\n",
       "    .dataframe tbody tr th:only-of-type {\n",
       "        vertical-align: middle;\n",
       "    }\n",
       "\n",
       "    .dataframe tbody tr th {\n",
       "        vertical-align: top;\n",
       "    }\n",
       "\n",
       "    .dataframe thead th {\n",
       "        text-align: right;\n",
       "    }\n",
       "</style>\n",
       "<table border=\"1\" class=\"dataframe\">\n",
       "  <thead>\n",
       "    <tr style=\"text-align: right;\">\n",
       "      <th>metric</th>\n",
       "      <th>institution</th>\n",
       "      <th>Academic Reputation</th>\n",
       "      <th>Citations per Faculty</th>\n",
       "      <th>Employer Reputation</th>\n",
       "      <th>Employment Outcomes</th>\n",
       "      <th>Faculty Student Ratio</th>\n",
       "      <th>International Faculty Ratio</th>\n",
       "      <th>International Research Network</th>\n",
       "      <th>International Student Diversity</th>\n",
       "      <th>International Student Ratio</th>\n",
       "      <th>Overall</th>\n",
       "      <th>Sustainability</th>\n",
       "      <th>Weighted Score</th>\n",
       "      <th>Normalized Score</th>\n",
       "      <th>new_rank</th>\n",
       "    </tr>\n",
       "  </thead>\n",
       "  <tbody>\n",
       "    <tr>\n",
       "      <th>1041</th>\n",
       "      <td>Universita' degli Studi di Napoli \"Parthenope\"</td>\n",
       "      <td>5.6</td>\n",
       "      <td>47.2</td>\n",
       "      <td>3.4</td>\n",
       "      <td>1.8</td>\n",
       "      <td>4.2</td>\n",
       "      <td>2.0</td>\n",
       "      <td>33.3</td>\n",
       "      <td>8.7</td>\n",
       "      <td>4.2</td>\n",
       "      <td>NaN</td>\n",
       "      <td>41.2</td>\n",
       "      <td>16.175</td>\n",
       "      <td>9.187393</td>\n",
       "      <td>1146</td>\n",
       "    </tr>\n",
       "    <tr>\n",
       "      <th>116</th>\n",
       "      <td>Bogazici University</td>\n",
       "      <td>36.2</td>\n",
       "      <td>23.7</td>\n",
       "      <td>85.8</td>\n",
       "      <td>88.7</td>\n",
       "      <td>5.1</td>\n",
       "      <td>28.2</td>\n",
       "      <td>49.0</td>\n",
       "      <td>12.6</td>\n",
       "      <td>7.5</td>\n",
       "      <td>40.3</td>\n",
       "      <td>68.5</td>\n",
       "      <td>41.075</td>\n",
       "      <td>36.496981</td>\n",
       "      <td>372</td>\n",
       "    </tr>\n",
       "    <tr>\n",
       "      <th>837</th>\n",
       "      <td>The University of Leeds</td>\n",
       "      <td>81.8</td>\n",
       "      <td>48.8</td>\n",
       "      <td>82.1</td>\n",
       "      <td>62.9</td>\n",
       "      <td>39.7</td>\n",
       "      <td>89.7</td>\n",
       "      <td>99.2</td>\n",
       "      <td>96.5</td>\n",
       "      <td>96.3</td>\n",
       "      <td>72.0</td>\n",
       "      <td>76.4</td>\n",
       "      <td>71.810</td>\n",
       "      <td>70.206226</td>\n",
       "      <td>86</td>\n",
       "    </tr>\n",
       "  </tbody>\n",
       "</table>\n",
       "</div>"
      ],
      "text/plain": [
       "metric                                     institution  Academic Reputation  \\\n",
       "1041    Universita' degli Studi di Napoli \"Parthenope\"                  5.6   \n",
       "116                                Bogazici University                 36.2   \n",
       "837                            The University of Leeds                 81.8   \n",
       "\n",
       "metric  Citations per Faculty  Employer Reputation  Employment Outcomes  \\\n",
       "1041                     47.2                  3.4                  1.8   \n",
       "116                      23.7                 85.8                 88.7   \n",
       "837                      48.8                 82.1                 62.9   \n",
       "\n",
       "metric  Faculty Student Ratio  International Faculty Ratio  \\\n",
       "1041                      4.2                          2.0   \n",
       "116                       5.1                         28.2   \n",
       "837                      39.7                         89.7   \n",
       "\n",
       "metric  International Research Network  International Student Diversity  \\\n",
       "1041                              33.3                              8.7   \n",
       "116                               49.0                             12.6   \n",
       "837                               99.2                             96.5   \n",
       "\n",
       "metric  International Student Ratio  Overall  Sustainability  Weighted Score  \\\n",
       "1041                            4.2      NaN            41.2          16.175   \n",
       "116                             7.5     40.3            68.5          41.075   \n",
       "837                            96.3     72.0            76.4          71.810   \n",
       "\n",
       "metric  Normalized Score  new_rank  \n",
       "1041            9.187393      1146  \n",
       "116            36.496981       372  \n",
       "837            70.206226        86  "
      ]
     },
     "execution_count": 13,
     "metadata": {},
     "output_type": "execute_result"
    }
   ],
   "source": [
    "df.sample(3)"
   ]
  },
  {
   "cell_type": "code",
   "execution_count": 11,
   "id": "80ac913d-1e64-4263-ae60-9da91d7f6f6b",
   "metadata": {},
   "outputs": [
    {
     "data": {
      "text/plain": [
       "0       1182\n",
       "1        825\n",
       "2        308\n",
       "3        115\n",
       "4        131\n",
       "        ... \n",
       "1496     599\n",
       "1497      49\n",
       "1498     570\n",
       "1499     829\n",
       "1500      22\n",
       "Name: Weighted Score, Length: 1501, dtype: int32"
      ]
     },
     "execution_count": 11,
     "metadata": {},
     "output_type": "execute_result"
    }
   ],
   "source": [
    "df['Weighted Score'].rank(method='min', ascending=False).astype(int)"
   ]
  },
  {
   "cell_type": "code",
   "execution_count": null,
   "id": "2429d311-4905-4254-a667-95e11195fb7d",
   "metadata": {},
   "outputs": [],
   "source": []
  }
 ],
 "metadata": {
  "kernelspec": {
   "display_name": "Python 3 (ipykernel)",
   "language": "python",
   "name": "python3"
  },
  "language_info": {
   "codemirror_mode": {
    "name": "ipython",
    "version": 3
   },
   "file_extension": ".py",
   "mimetype": "text/x-python",
   "name": "python",
   "nbconvert_exporter": "python",
   "pygments_lexer": "ipython3",
   "version": "3.11.7"
  }
 },
 "nbformat": 4,
 "nbformat_minor": 5
}
